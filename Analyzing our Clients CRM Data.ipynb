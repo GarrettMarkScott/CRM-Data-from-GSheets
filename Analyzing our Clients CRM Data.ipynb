{
 "cells": [
  {
   "cell_type": "markdown",
   "metadata": {},
   "source": [
    "Remember that you need to get the email address from the JSON key and add that as a user in the Google Sheet\n",
    "pulling-crm-data-to-master-dat@dealer-world-data.iam.gserviceaccount.com"
   ]
  },
  {
   "cell_type": "code",
   "execution_count": 205,
   "metadata": {},
   "outputs": [
    {
     "name": "stdout",
     "output_type": "stream",
     "text": [
      "['1tnm4krKZK9KUuz_a0bCQ9I_TgCHQcewWIRh-9XY0JX4', '1pIFLDQjh3ArwsjGqZjbvC0eIRW2iDImv_2JiLyJG6ic', '1FY04jn-lE9rDSzUVHw41X-ZMm4Ao5bOQlFD-cnJVdKk', '1qJuX5Id_Aa5yBbbTXK7Qh9EejPZrYMVzzL-6hmm1HSI', '1ZjkqCzsJTgW5zBsBejf3PTkC_XR0dlscsTKkx7m9KB4', '1m40fVBOfzqqHJKK6sNhq8WGGxBdz3-5-apRUAfyWEdQ', '1EDl6blIaMbNkIm_vDh1fR4PFzxAbtmFx4wLjtTxrcjc', '1tmuvd-bWaEe-w6HSeEoS6-aJR19LbVXC6k5ioDKiXPk', '1OXCLC7_CId-g9gJGkWYNp2YGq1NdNOvSz3tl5Uu8zW4', '1vN5LKlordmU6PFMD8Ed8smT55CvN1VsvPRNZF6pVD64', '13Ag1u9ofQfF0-ZLDJRSFH2iFJLQJdDDF5S2Eu-PM1aE', '1lFUu-MzT4207SyTtRp3ncY7F0klWSFMtDRdnAjNvWC0', '1mj0R5TYIIZXa4_gCeq9mrgGQdskTP8HZl3z68zuXCCc', '1W2o2ctcZO9zfU63bnZ-praGcu2ZInhoxJ41hBw__cSY', '1QHRm7NJGoNzWvUYU9rl22JUsVBj-SyUPG7dohtftMc4', '1JLVWIC5bT_JOI5TsBO1Q8qx0c2A-TghmKbfTTMdmfjQ', '1IfU18GtoLFBHL6QWMdBR9XMc9VYM32bq-0IvrDmOf8A', '1cgt1U0zZHhZ_w4UIPmpleci3mxcdpTJMSKLc_i5nZpY', '1uhbpAi2UcTP-wTQCO8o5DhdKOhKJ0cnPAFCZ_ENei1w', '18pW__YqidJBu0dqT0U0oTHTWV0oLqXnqj2FokjrE3V0', '1I2BO14HHz5Mzkvt6L9CGMy6WBpV6iqpCqbLTmXcR_gk', '1ut-4GD1z2PXL5Qalr4mGvC3zv7ra7zV71o4tJvfYqQc', '1m_qDa76R2_AXGFRS76UcT98puxnWwhUdRiFF_rZGjcA', '17MJaxHCVI-xq2Gtc-eh0WHWLNcqNfpe9XPxmDt2ywYg', '16t39Z8jED64TMRpQviN7E2pU2ri1zOVWSrKRspny3x8', '193VJLBeUWbViPhPHlsT4bZWckQRkD3SFbWSMWPEHcKA']\n"
     ]
    }
   ],
   "source": [
    "import pandas as pd\n",
    "import gspread\n",
    "from oauth2client.service_account import ServiceAccountCredentials\n",
    "from pprint import pprint\n",
    "from datetime import datetime\n",
    "\n",
    "scope = [\"https://spreadsheets.google.com/feeds\",\n",
    "         \"https://www.googleapis.com/auth/spreadsheets\",\n",
    "         \"https://www.googleapis.com/auth/drive.file\",\n",
    "         \"https://www.googleapis.com/auth/drive\"]\n",
    "\n",
    "creds = ServiceAccountCredentials.from_json_keyfile_name(\"dealer-world-data-16192d1e4c48.json\", scope)\n",
    "gc = gspread.authorize(creds)\n",
    "\n",
    "client_list_original = gc.open_by_key('1_j31PwyFsTx0SPBIywvnOd7E3UbjUCFfAFIZkCOMr1g').sheet1.get_all_records()\n",
    "ids = pd.DataFrame(client_list_original)\n",
    "client_list = ids['Dealer Leads ID'].tolist()\n",
    "print(client_list)\n",
    "\n"
   ]
  },
  {
   "cell_type": "code",
   "execution_count": 206,
   "metadata": {},
   "outputs": [
    {
     "name": "stdout",
     "output_type": "stream",
     "text": [
      "                              Client\n",
      "25  Thrifty did not import correctly\n"
     ]
    }
   ],
   "source": [
    "master_df = pd.DataFrame()\n",
    "\n",
    "for i in range(len(client_list)):\n",
    "    try:\n",
    "        sheet = gc.open_by_key(client_list[i]).worksheet(\"Dealer Leads\")\n",
    "        data = sheet.get_all_records()\n",
    "        df = pd.DataFrame(data)\n",
    "        master_df = master_df.append(df, ignore_index=True, sort=True)\n",
    "    except:\n",
    "        print(ids[ids['Dealer Leads ID'] == client_list[i]][['Client']]+' did not import correctly')"
   ]
  },
  {
   "cell_type": "code",
   "execution_count": 207,
   "metadata": {},
   "outputs": [],
   "source": [
    "#Dropping Empty Columns\n",
    "master_df.drop(columns={''}, inplace=True)"
   ]
  },
  {
   "cell_type": "code",
   "execution_count": 208,
   "metadata": {},
   "outputs": [
    {
     "data": {
      "text/plain": [
       "Avg. Response Time    object\n",
       "Closing Percent       object\n",
       "DealerName            object\n",
       "Entry Date            object\n",
       "Fresh Walk Ins        object\n",
       "Internet Leads        object\n",
       "Internet Set          object\n",
       "Internet Show         object\n",
       "Internet Sold         object\n",
       "Phone Leads           object\n",
       "Phone Set             object\n",
       "Phone Show            object\n",
       "Phone Sold            object\n",
       "Showroom Visits       object\n",
       "Units Sold            object\n",
       "dtype: object"
      ]
     },
     "execution_count": 208,
     "metadata": {},
     "output_type": "execute_result"
    }
   ],
   "source": [
    "master_df.dtypes"
   ]
  },
  {
   "cell_type": "code",
   "execution_count": 209,
   "metadata": {},
   "outputs": [],
   "source": [
    "#Closing to Float\n",
    "master_df['Closing Percent'] = master_df['Closing Percent'].replace('#DIV/0!','NaN').replace('','NaN').astype(float)"
   ]
  },
  {
   "cell_type": "code",
   "execution_count": 210,
   "metadata": {},
   "outputs": [],
   "source": [
    "#Avg. Response Time to Float\n",
    "master_df['Avg. Response Time'] = master_df['Avg. Response Time'].replace('','NaN').astype(float)"
   ]
  },
  {
   "cell_type": "code",
   "execution_count": 211,
   "metadata": {},
   "outputs": [],
   "source": [
    "def str_to_int(column):\n",
    "    master_df[column] = master_df[column].replace(' ','').replace('','0').astype(int)\n",
    "    \n",
    "int_columns = ['Fresh Walk Ins',\n",
    "               'Internet Leads',\n",
    "               'Internet Set',\n",
    "               'Internet Show',\n",
    "               'Internet Sold',\n",
    "               'Phone Leads',\n",
    "               'Phone Set',\n",
    "               'Phone Show',\n",
    "               'Phone Sold',\n",
    "               'Showroom Visits',\n",
    "               'Units Sold',\n",
    "              ]\n",
    "\n",
    "for i in int_columns:\n",
    "    str_to_int(i)"
   ]
  },
  {
   "cell_type": "code",
   "execution_count": 212,
   "metadata": {},
   "outputs": [],
   "source": [
    "master_df['Entry Date'] = pd.to_datetime(master_df['Entry Date'])"
   ]
  },
  {
   "cell_type": "code",
   "execution_count": 213,
   "metadata": {},
   "outputs": [
    {
     "name": "stdout",
     "output_type": "stream",
     "text": [
      "We have been tracking CRM info for 378 days.\n"
     ]
    }
   ],
   "source": [
    "print(\"We have been tracking CRM info for \"+str((master_df['Entry Date'].max() - master_df['Entry Date'].min()).days)+\" days.\")"
   ]
  },
  {
   "cell_type": "code",
   "execution_count": null,
   "metadata": {},
   "outputs": [],
   "source": []
  },
  {
   "cell_type": "code",
   "execution_count": 214,
   "metadata": {},
   "outputs": [
    {
     "ename": "TypeError",
     "evalue": "Only valid with DatetimeIndex, TimedeltaIndex or PeriodIndex, but got an instance of 'RangeIndex'",
     "output_type": "error",
     "traceback": [
      "\u001b[0;31m---------------------------------------------------------------------------\u001b[0m",
      "\u001b[0;31mTypeError\u001b[0m                                 Traceback (most recent call last)",
      "\u001b[0;32m<ipython-input-214-caf8658adae4>\u001b[0m in \u001b[0;36m<module>\u001b[0;34m\u001b[0m\n\u001b[0;32m----> 1\u001b[0;31m \u001b[0mmaster_df\u001b[0m\u001b[0;34m.\u001b[0m\u001b[0mresample\u001b[0m\u001b[0;34m(\u001b[0m\u001b[0;34m'M'\u001b[0m\u001b[0;34m)\u001b[0m\u001b[0;34m.\u001b[0m\u001b[0mmean\u001b[0m\u001b[0;34m(\u001b[0m\u001b[0;34m)\u001b[0m\u001b[0;34m\u001b[0m\u001b[0;34m\u001b[0m\u001b[0m\n\u001b[0m",
      "\u001b[0;32m~/anaconda3/lib/python3.7/site-packages/pandas/core/generic.py\u001b[0m in \u001b[0;36mresample\u001b[0;34m(self, rule, how, axis, fill_method, closed, label, convention, kind, loffset, limit, base, on, level)\u001b[0m\n\u001b[1;32m   8153\u001b[0m                      \u001b[0maxis\u001b[0m\u001b[0;34m=\u001b[0m\u001b[0maxis\u001b[0m\u001b[0;34m,\u001b[0m \u001b[0mkind\u001b[0m\u001b[0;34m=\u001b[0m\u001b[0mkind\u001b[0m\u001b[0;34m,\u001b[0m \u001b[0mloffset\u001b[0m\u001b[0;34m=\u001b[0m\u001b[0mloffset\u001b[0m\u001b[0;34m,\u001b[0m\u001b[0;34m\u001b[0m\u001b[0;34m\u001b[0m\u001b[0m\n\u001b[1;32m   8154\u001b[0m                      \u001b[0mconvention\u001b[0m\u001b[0;34m=\u001b[0m\u001b[0mconvention\u001b[0m\u001b[0;34m,\u001b[0m\u001b[0;34m\u001b[0m\u001b[0;34m\u001b[0m\u001b[0m\n\u001b[0;32m-> 8155\u001b[0;31m                      base=base, key=on, level=level)\n\u001b[0m\u001b[1;32m   8156\u001b[0m         return _maybe_process_deprecations(r,\n\u001b[1;32m   8157\u001b[0m                                            \u001b[0mhow\u001b[0m\u001b[0;34m=\u001b[0m\u001b[0mhow\u001b[0m\u001b[0;34m,\u001b[0m\u001b[0;34m\u001b[0m\u001b[0;34m\u001b[0m\u001b[0m\n",
      "\u001b[0;32m~/anaconda3/lib/python3.7/site-packages/pandas/core/resample.py\u001b[0m in \u001b[0;36mresample\u001b[0;34m(obj, kind, **kwds)\u001b[0m\n\u001b[1;32m   1248\u001b[0m     \"\"\"\n\u001b[1;32m   1249\u001b[0m     \u001b[0mtg\u001b[0m \u001b[0;34m=\u001b[0m \u001b[0mTimeGrouper\u001b[0m\u001b[0;34m(\u001b[0m\u001b[0;34m**\u001b[0m\u001b[0mkwds\u001b[0m\u001b[0;34m)\u001b[0m\u001b[0;34m\u001b[0m\u001b[0;34m\u001b[0m\u001b[0m\n\u001b[0;32m-> 1250\u001b[0;31m     \u001b[0;32mreturn\u001b[0m \u001b[0mtg\u001b[0m\u001b[0;34m.\u001b[0m\u001b[0m_get_resampler\u001b[0m\u001b[0;34m(\u001b[0m\u001b[0mobj\u001b[0m\u001b[0;34m,\u001b[0m \u001b[0mkind\u001b[0m\u001b[0;34m=\u001b[0m\u001b[0mkind\u001b[0m\u001b[0;34m)\u001b[0m\u001b[0;34m\u001b[0m\u001b[0;34m\u001b[0m\u001b[0m\n\u001b[0m\u001b[1;32m   1251\u001b[0m \u001b[0;34m\u001b[0m\u001b[0m\n\u001b[1;32m   1252\u001b[0m \u001b[0;34m\u001b[0m\u001b[0m\n",
      "\u001b[0;32m~/anaconda3/lib/python3.7/site-packages/pandas/core/resample.py\u001b[0m in \u001b[0;36m_get_resampler\u001b[0;34m(self, obj, kind)\u001b[0m\n\u001b[1;32m   1378\u001b[0m         raise TypeError(\"Only valid with DatetimeIndex, \"\n\u001b[1;32m   1379\u001b[0m                         \u001b[0;34m\"TimedeltaIndex or PeriodIndex, \"\u001b[0m\u001b[0;34m\u001b[0m\u001b[0;34m\u001b[0m\u001b[0m\n\u001b[0;32m-> 1380\u001b[0;31m                         \"but got an instance of %r\" % type(ax).__name__)\n\u001b[0m\u001b[1;32m   1381\u001b[0m \u001b[0;34m\u001b[0m\u001b[0m\n\u001b[1;32m   1382\u001b[0m     \u001b[0;32mdef\u001b[0m \u001b[0m_get_grouper\u001b[0m\u001b[0;34m(\u001b[0m\u001b[0mself\u001b[0m\u001b[0;34m,\u001b[0m \u001b[0mobj\u001b[0m\u001b[0;34m,\u001b[0m \u001b[0mvalidate\u001b[0m\u001b[0;34m=\u001b[0m\u001b[0;32mTrue\u001b[0m\u001b[0;34m)\u001b[0m\u001b[0;34m:\u001b[0m\u001b[0;34m\u001b[0m\u001b[0;34m\u001b[0m\u001b[0m\n",
      "\u001b[0;31mTypeError\u001b[0m: Only valid with DatetimeIndex, TimedeltaIndex or PeriodIndex, but got an instance of 'RangeIndex'"
     ]
    }
   ],
   "source": [
    "master_df.resample('M').mean()"
   ]
  },
  {
   "cell_type": "code",
   "execution_count": null,
   "metadata": {},
   "outputs": [],
   "source": []
  },
  {
   "cell_type": "code",
   "execution_count": null,
   "metadata": {},
   "outputs": [],
   "source": []
  }
 ],
 "metadata": {
  "kernelspec": {
   "display_name": "Python 3",
   "language": "python",
   "name": "python3"
  },
  "language_info": {
   "codemirror_mode": {
    "name": "ipython",
    "version": 3
   },
   "file_extension": ".py",
   "mimetype": "text/x-python",
   "name": "python",
   "nbconvert_exporter": "python",
   "pygments_lexer": "ipython3",
   "version": "3.7.3"
  }
 },
 "nbformat": 4,
 "nbformat_minor": 2
}
